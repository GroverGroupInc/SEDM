{
 "cells": [
  {
   "cell_type": "code",
   "execution_count": 2,
   "metadata": {
    "collapsed": true,
    "hideCode": true,
    "hideOutput": true,
    "hidePrompt": true
   },
   "outputs": [],
   "source": [
    "import pandas as pd\n",
    "import numpy as np\n",
    "def percConvert(ser): return ser/float(ser[2])"
   ]
  },
  {
   "cell_type": "markdown",
   "metadata": {
    "hideCode": true,
    "hidePrompt": true
   },
   "source": [
    "The Manual of Strategic Economic Decision Making\n",
    "Using Bayesian Belief Networks to Solve Complex Problems\n",
    "Authors: Jeff Grover \n",
    "ISBN: 978-3-319-48413-6 (Print) 978-3-319-48414-3 (Online) \n",
    "https://link.springer.com/book/10.1007%2F978-3-319-48414-3"
   ]
  },
  {
   "cell_type": "markdown",
   "metadata": {
    "hideCode": true,
    "hidePrompt": true
   },
   "source": [
    "<img src=\"SEDM.PNG\">"
   ]
  },
  {
   "cell_type": "markdown",
   "metadata": {
    "hideCode": true,
    "hidePrompt": true
   },
   "source": [
    "From the Back Cover\n",
    "\n",
    "This book is an extension of the author’s first book and serves as a guide and manual on how to specify and compute 2-, 3-, & 4-Event Bayesian Belief Networks (BBN). It walks the learner through the steps of fitting and solving fifty BBN numerically, using mathematical proof. The author wrote this book primarily for naïve learners and professionals, with a proof-based academic rigor.\n",
    "\n",
    "The author's first book on this topic, a primer introducing learners to the basic complexities and nuances associated with learning Bayes’ theory and inverse probability for the first time, was meant for non-statisticians unfamiliar with the theorem - as is this book. This new book expands upon that approach and is meant to be a prescriptive guide for building BBN and executive decision-making for students and professionals; intended so that decision-makers can invest their time and start using this inductive reasoning principle in their decision-making processes. It highlights the utility of an algorithm that served as the basis for the first book, and includes fifty 2-,3-, and 4-event BBN of numerous variants.\n",
    "Equips readers with a simplified reference source for all aspects of the discrete form of Bayes’ theorem and its application to BBN\n",
    "Provides a compact resource for the statistical tools required to build a BBN\n",
    "Includes an accompanying statistical analysis portal\n",
    " \n",
    "Jeff Grover, DBA, is Founder and Chief Research Scientist at Grover Group, Inc., where he specializes in Bayes’ Theorem and its application to strategic economic decision making through Bayesian belief networks (BBNs). He specializes in blending economic theory and BBN to maximize stakeholder wealth. He is a winner of the Kentucky Innovation Award (2015) for the application of his proprietary BBN big data algorithm. He has operationalized BBN in the healthcare industry, evaluating the Medicare “Hospital Compare” data; in the Department of Defense, conducting research with U.S. Army Recruiting Command to determine optimal levels of required recruiters for recruiting niche market medical professionals; and in the agriculture industry in optimal soybean selection. In the area of economics, he was recently contracted by the Department of Energy, The Alliance for Sustainable Energy, LLC Management and Operating Contractor for the National Renewable Energy Laboratory, to conduct a 3rd party evaluation of the Hydrogen Financial Analysis Scenario (H2FAST) Tool.\n",
    "\n",
    "About the Author\n",
    "Jeff Grover, Doctor of Business Administration (DBA) (Finance), is Founder and Chief Research Scientist at Grover Group, Inc., where he specializes in Bayes’ Theorem and its application to strategic economic decision making through Bayesian Belief Networks (BBN). He specializes in blending economic theory and BBN to maximize stakeholder wealth. He is a winner of the Kentucky Innovation Award (2015) for the application of his proprietary BBN big data algorithm. He has operationalized BBN in the healthcare industry, evaluating the Medicare “Hospital Compare” data; in the Department of Defense, conducting research with U.S. Army Recruiting Command to determine optimal levels of required recruiters for recruiting niche market medical professionals; and in the agriculture industry in optimal soybean selection. In the area of economics, he was recently contracted by the Department of Energy, The Alliance for Sustainable Energy, LLC Management and Operating Contractor for the National Renewable Energy Laboratory, to conduct a 3rd party evaluation of the Hydrogen Financial Analysis Scenario (H2FAST) Tool."
   ]
  },
  {
   "cell_type": "markdown",
   "metadata": {
    "hideCode": true,
    "hidePrompt": true
   },
   "source": [
    "Chapter 6- Synthetic (base) matrices development <img src=\"Chapter6.PNG\">"
   ]
  },
  {
   "cell_type": "code",
   "execution_count": 3,
   "metadata": {
    "collapsed": true,
    "hideCode": true,
    "hidePrompt": true
   },
   "outputs": [],
   "source": [
    "df = pd.read_csv(\"C:/Users/Valued Customer/AnacondaProjects/SEDM/SEDM-Manual-Data1.csv\")"
   ]
  },
  {
   "cell_type": "markdown",
   "metadata": {
    "hideCode": true,
    "hidePrompt": true
   },
   "source": [
    "# Base Matrices"
   ]
  },
  {
   "cell_type": "markdown",
   "metadata": {
    "hideCode": true,
    "hidePrompt": true
   },
   "source": [
    "## Node A"
   ]
  },
  {
   "cell_type": "markdown",
   "metadata": {
    "hideCode": true,
    "hidePrompt": true
   },
   "source": [
    "Counts <img src=\"BaseMatrices/Node CA.PNG\">"
   ]
  },
  {
   "cell_type": "code",
   "execution_count": null,
   "metadata": {
    "hideCode": true,
    "hidePrompt": true
   },
   "outputs": [],
   "source": [
    "CA = pd.crosstab('df.Event_A', [df.Event_A], margins=True)\n",
    "CA"
   ]
  },
  {
   "cell_type": "markdown",
   "metadata": {
    "hideCode": true,
    "hidePrompt": true
   },
   "source": [
    "Likelihoods <img src=\"BaseMatrices/Node LA.PNG\">"
   ]
  },
  {
   "cell_type": "code",
   "execution_count": null,
   "metadata": {
    "hideCode": true,
    "hidePrompt": true
   },
   "outputs": [],
   "source": [
    "LA = pd.crosstab('', [df.Event_A], margins=True).apply(percConvert, axis=1)\n",
    "LA"
   ]
  },
  {
   "cell_type": "markdown",
   "metadata": {
    "hideCode": true,
    "hidePrompt": true
   },
   "source": [
    "==================================================================================================================="
   ]
  },
  {
   "cell_type": "markdown",
   "metadata": {
    "hideCode": true,
    "hidePrompt": true
   },
   "source": [
    "## Node B\n",
    "### B1 & B2\n",
    "======================================================================================================================="
   ]
  },
  {
   "cell_type": "markdown",
   "metadata": {
    "hideCode": true,
    "hidePrompt": true
   },
   "source": [
    "### Node B1"
   ]
  },
  {
   "cell_type": "markdown",
   "metadata": {
    "hideCode": true,
    "hidePrompt": true
   },
   "source": [
    "Counts <img src=\"BaseMatrices/Node CB1.PNG\">"
   ]
  },
  {
   "cell_type": "code",
   "execution_count": null,
   "metadata": {
    "hideCode": true,
    "hidePrompt": true
   },
   "outputs": [],
   "source": [
    "CB1 = pd.crosstab([df.Event_A], df.Event_B, margins=True)\n",
    "CB1"
   ]
  },
  {
   "cell_type": "markdown",
   "metadata": {
    "hideCode": true,
    "hidePrompt": true
   },
   "source": [
    "### P(B1j | Ai)"
   ]
  },
  {
   "cell_type": "markdown",
   "metadata": {
    "hideCode": true,
    "hidePrompt": true
   },
   "source": [
    "Likelihoods <img src=\"BaseMatrices/Node LB1.PNG\">"
   ]
  },
  {
   "cell_type": "code",
   "execution_count": null,
   "metadata": {
    "hideCode": true,
    "hidePrompt": true
   },
   "outputs": [],
   "source": [
    "# LB1 = pd.crosstab([df.Event_A], [df.Event_B], margins=True).apply(percConvert, axis=1)\n",
    "\n",
    "LB1 = pd.crosstab([df.Event_A], df.Event_B, margins=True).apply(percConvert, axis=1)\n",
    "LB1"
   ]
  },
  {
   "cell_type": "markdown",
   "metadata": {
    "hideCode": true,
    "hidePrompt": true
   },
   "source": [
    "-----------------------------------------------------------------------------------------------------------------------"
   ]
  },
  {
   "cell_type": "markdown",
   "metadata": {
    "hideCode": true,
    "hidePrompt": true
   },
   "source": [
    "### Node B2"
   ]
  },
  {
   "cell_type": "markdown",
   "metadata": {
    "hideCode": true,
    "hidePrompt": true
   },
   "source": [
    "Counts <img src=\"BaseMatrices/Node CB2.PNG\">"
   ]
  },
  {
   "cell_type": "code",
   "execution_count": null,
   "metadata": {
    "hideCode": true,
    "hidePrompt": true
   },
   "outputs": [],
   "source": [
    "CB2 = pd.crosstab('df.Event_B', [df.Event_B], margins=True)\n",
    "CB2"
   ]
  },
  {
   "cell_type": "markdown",
   "metadata": {
    "hideCode": true,
    "hidePrompt": true
   },
   "source": [
    "### P(B2i | Aj)"
   ]
  },
  {
   "cell_type": "markdown",
   "metadata": {
    "hideCode": true,
    "hidePrompt": true
   },
   "source": [
    "Likelihoods <img src=\"BaseMatrices/Node LB2.PNG\">"
   ]
  },
  {
   "cell_type": "code",
   "execution_count": null,
   "metadata": {
    "hideCode": true,
    "hidePrompt": true
   },
   "outputs": [],
   "source": [
    "LB2 = pd.crosstab('', df.Event_B, margins=True).apply(percConvert, axis=1)\n",
    "LB2"
   ]
  },
  {
   "cell_type": "markdown",
   "metadata": {
    "hideCode": true,
    "hidePrompt": true
   },
   "source": [
    "======================================================================================================================="
   ]
  },
  {
   "cell_type": "markdown",
   "metadata": {
    "hideCode": true,
    "hidePrompt": true
   },
   "source": [
    "## Node C\n",
    "### C1, C2, C3, & C4"
   ]
  },
  {
   "cell_type": "markdown",
   "metadata": {
    "hideCode": true,
    "hidePrompt": true
   },
   "source": [
    "### Node C1"
   ]
  },
  {
   "cell_type": "markdown",
   "metadata": {
    "hideCode": true,
    "hidePrompt": true
   },
   "source": [
    "Counts <img src=\"BaseMatrices/Node CC1.PNG\">"
   ]
  },
  {
   "cell_type": "code",
   "execution_count": null,
   "metadata": {
    "hideCode": true,
    "hidePrompt": true
   },
   "outputs": [],
   "source": [
    "CC1 = pd.crosstab([df.Event_B, df.Event_A], df.Event_C, margins=True)\n",
    "CC1"
   ]
  },
  {
   "cell_type": "markdown",
   "metadata": {
    "hideCode": true,
    "hidePrompt": true
   },
   "source": [
    "### P(C1j |Bi, Ai)"
   ]
  },
  {
   "cell_type": "markdown",
   "metadata": {
    "hideCode": true,
    "hidePrompt": true
   },
   "source": [
    "Likelihoods <img src=\"BaseMatrices/Node LC1.PNG\">"
   ]
  },
  {
   "cell_type": "code",
   "execution_count": null,
   "metadata": {
    "hideCode": true,
    "hidePrompt": true
   },
   "outputs": [],
   "source": [
    "LC1 = pd.crosstab([df.Event_B, df.Event_A], [df.Event_C], margins=True).apply(percConvert, axis=1)\n",
    "LC1"
   ]
  },
  {
   "cell_type": "markdown",
   "metadata": {
    "hideCode": true,
    "hidePrompt": true
   },
   "source": [
    "-----------------------------------------------------------------------------------------------------------------------"
   ]
  },
  {
   "cell_type": "markdown",
   "metadata": {
    "hideCode": true,
    "hidePrompt": true
   },
   "source": [
    "### Node C2"
   ]
  },
  {
   "cell_type": "markdown",
   "metadata": {
    "hideCode": true,
    "hidePrompt": true
   },
   "source": [
    "Counts <img src=\"BaseMatrices/Node CC2.PNG\">"
   ]
  },
  {
   "cell_type": "code",
   "execution_count": null,
   "metadata": {
    "hideCode": true,
    "hidePrompt": true
   },
   "outputs": [],
   "source": [
    "CC2 = pd.crosstab([df.Event_B], df.Event_C, margins=True)\n",
    "CC2"
   ]
  },
  {
   "cell_type": "markdown",
   "metadata": {
    "hideCode": true,
    "hidePrompt": true
   },
   "source": [
    "### P(C2j | Bi)"
   ]
  },
  {
   "cell_type": "markdown",
   "metadata": {
    "hideCode": true,
    "hidePrompt": true
   },
   "source": [
    "Likelihoods <img src=\"BaseMatrices/Node LC2.PNG\">"
   ]
  },
  {
   "cell_type": "code",
   "execution_count": null,
   "metadata": {
    "hideCode": true,
    "hidePrompt": true
   },
   "outputs": [],
   "source": [
    "LC2 = pd.crosstab([df.Event_B], df.Event_C, margins=True).apply(percConvert, axis=1)\n",
    "LC2"
   ]
  },
  {
   "cell_type": "markdown",
   "metadata": {
    "hideCode": true,
    "hidePrompt": true
   },
   "source": [
    "-----------------------------------------------------------------------------------------------------------------------"
   ]
  },
  {
   "cell_type": "markdown",
   "metadata": {
    "hideCode": true,
    "hidePrompt": true
   },
   "source": [
    "### Node C3"
   ]
  },
  {
   "cell_type": "markdown",
   "metadata": {
    "hideCode": true,
    "hidePrompt": true
   },
   "source": [
    "Counts <img src=\"BaseMatrices/Node CC3.PNG\">"
   ]
  },
  {
   "cell_type": "code",
   "execution_count": null,
   "metadata": {
    "hideCode": true,
    "hidePrompt": true
   },
   "outputs": [],
   "source": [
    "CC3 = pd.crosstab([df.Event_A], df.Event_C, margins=True)\n",
    "CC3"
   ]
  },
  {
   "cell_type": "markdown",
   "metadata": {
    "hideCode": true,
    "hidePrompt": true
   },
   "source": [
    "### P(C3j | Ai)"
   ]
  },
  {
   "cell_type": "markdown",
   "metadata": {
    "hideCode": true,
    "hidePrompt": true
   },
   "source": [
    "Likelihoods <img src=\"BaseMatrices/Node LC3.PNG\">"
   ]
  },
  {
   "cell_type": "code",
   "execution_count": null,
   "metadata": {
    "hideCode": true,
    "hidePrompt": true
   },
   "outputs": [],
   "source": [
    "LC3 = pd.crosstab([df.Event_A], [df.Event_C], margins=True).apply(percConvert, axis=1)\n",
    "LC3"
   ]
  },
  {
   "cell_type": "markdown",
   "metadata": {
    "hideCode": true,
    "hidePrompt": true
   },
   "source": [
    "-----------------------------------------------------------------------------------------------------------------------"
   ]
  },
  {
   "cell_type": "markdown",
   "metadata": {
    "hideCode": true,
    "hidePrompt": true
   },
   "source": [
    "### Node C4"
   ]
  },
  {
   "cell_type": "markdown",
   "metadata": {
    "hideCode": true,
    "hidePrompt": true
   },
   "source": [
    "Counts <img src=\"BaseMatrices/Node CC4.PNG\">"
   ]
  },
  {
   "cell_type": "code",
   "execution_count": null,
   "metadata": {
    "hideCode": true,
    "hidePrompt": true
   },
   "outputs": [],
   "source": [
    "CC4 = pd.crosstab('df.Event_C', [df.Event_C], margins=True)\n",
    "CC4"
   ]
  },
  {
   "cell_type": "markdown",
   "metadata": {
    "hideCode": true,
    "hidePrompt": true
   },
   "source": [
    "### P(C4j)"
   ]
  },
  {
   "cell_type": "markdown",
   "metadata": {
    "hideCode": true,
    "hidePrompt": true
   },
   "source": [
    "Likelihoods <img src=\"BaseMatrices/Node LC4.PNG\">"
   ]
  },
  {
   "cell_type": "code",
   "execution_count": null,
   "metadata": {
    "hideCode": true,
    "hidePrompt": true
   },
   "outputs": [],
   "source": [
    "#LC4 = pd.crosstab(\"\", [df.Event_C], margins=True).apply(percConvert, axis=1)\n",
    "LC4 = pd.crosstab('Event_C', [df.Event_C], margins=True).apply(percConvert, axis=1)\n",
    "LC4"
   ]
  },
  {
   "cell_type": "markdown",
   "metadata": {
    "hideCode": true,
    "hidePrompt": true
   },
   "source": [
    "======================================================================================================================="
   ]
  },
  {
   "cell_type": "markdown",
   "metadata": {
    "hideCode": true,
    "hidePrompt": true
   },
   "source": [
    "## Node D\n",
    "### D1, D2, D3, D4, D5, D6, & D7"
   ]
  },
  {
   "cell_type": "markdown",
   "metadata": {
    "hideCode": true,
    "hidePrompt": true
   },
   "source": [
    "### Node D1"
   ]
  },
  {
   "cell_type": "markdown",
   "metadata": {
    "hideCode": true,
    "hidePrompt": true
   },
   "source": [
    "Counts <img src=\"BaseMatrices/Node CD1.PNG\">"
   ]
  },
  {
   "cell_type": "code",
   "execution_count": null,
   "metadata": {
    "hideCode": true,
    "hidePrompt": true,
    "scrolled": true
   },
   "outputs": [],
   "source": [
    "CD1 = pd.crosstab([df.Event_C, df.Event_B, df.Event_A], df.Event_D, margins=True)\n",
    "CD1"
   ]
  },
  {
   "cell_type": "markdown",
   "metadata": {
    "hideCode": true,
    "hidePrompt": true
   },
   "source": [
    "### P(D1j | Ci, Bi, Ai)"
   ]
  },
  {
   "cell_type": "markdown",
   "metadata": {
    "hideCode": true,
    "hidePrompt": true
   },
   "source": [
    "Likelihoods <img src=\"BaseMatrices/Node LD1.PNG\">"
   ]
  },
  {
   "cell_type": "code",
   "execution_count": null,
   "metadata": {
    "hideCode": true,
    "hidePrompt": true
   },
   "outputs": [],
   "source": [
    "LD1 = pd.crosstab([df.Event_C, df.Event_B, df.Event_A], [df.Event_D], margins=True).apply(percConvert, axis=1)\n",
    "LD1"
   ]
  },
  {
   "cell_type": "markdown",
   "metadata": {
    "hideCode": true,
    "hidePrompt": true
   },
   "source": [
    "-----------------------------------------------------------------------------------------------------------------------"
   ]
  },
  {
   "cell_type": "markdown",
   "metadata": {
    "hideCode": true,
    "hidePrompt": true
   },
   "source": [
    "### Node D2"
   ]
  },
  {
   "cell_type": "markdown",
   "metadata": {
    "hideCode": true,
    "hidePrompt": true
   },
   "source": [
    "Counts <img src=\"BaseMatrices/Node CD2.PNG\"> Note this is incorrectly annotated. This corrects it as: P(D2j,Ci, Bi, Ai)"
   ]
  },
  {
   "cell_type": "code",
   "execution_count": null,
   "metadata": {
    "hideCode": true,
    "hidePrompt": true,
    "scrolled": true
   },
   "outputs": [],
   "source": [
    "CD2 = pd.crosstab([df.Event_C, df.Event_B], df.Event_D, margins=True)\n",
    "CD2"
   ]
  },
  {
   "cell_type": "markdown",
   "metadata": {
    "hideCode": true,
    "hidePrompt": true
   },
   "source": [
    "### P(D2j | Ci, Bi)"
   ]
  },
  {
   "cell_type": "markdown",
   "metadata": {
    "hideCode": true,
    "hidePrompt": true
   },
   "source": [
    "Likelihoods <img src=\"BaseMatrices/Node LD2.PNG\">"
   ]
  },
  {
   "cell_type": "code",
   "execution_count": null,
   "metadata": {
    "hideCode": true,
    "hidePrompt": true
   },
   "outputs": [],
   "source": [
    "LD2 = pd.crosstab([df.Event_C, df.Event_B], [df.Event_D], margins=True).apply(percConvert, axis=1)\n",
    "LD2"
   ]
  },
  {
   "cell_type": "markdown",
   "metadata": {
    "hideCode": true,
    "hidePrompt": true
   },
   "source": [
    "-----------------------------------------------------------------------------------------------------------------------"
   ]
  },
  {
   "cell_type": "markdown",
   "metadata": {
    "hideCode": true,
    "hidePrompt": true
   },
   "source": [
    "### Node D3"
   ]
  },
  {
   "cell_type": "markdown",
   "metadata": {
    "hideCode": true,
    "hidePrompt": true
   },
   "source": [
    "Counts <img src=\"BaseMatrices/Node CD3.PNG\">"
   ]
  },
  {
   "cell_type": "code",
   "execution_count": null,
   "metadata": {
    "hideCode": true,
    "hidePrompt": true,
    "scrolled": true
   },
   "outputs": [],
   "source": [
    "CD3 = pd.crosstab([df.Event_C, df.Event_A], df.Event_D, margins=True)\n",
    "CD3"
   ]
  },
  {
   "cell_type": "markdown",
   "metadata": {
    "hideCode": true,
    "hidePrompt": true
   },
   "source": [
    "### P(D3j | Ci, Ai)"
   ]
  },
  {
   "cell_type": "markdown",
   "metadata": {
    "hideCode": true,
    "hidePrompt": true
   },
   "source": [
    "Likelihoods <img src=\"BaseMatrices/Node LD3.PNG\">"
   ]
  },
  {
   "cell_type": "code",
   "execution_count": null,
   "metadata": {
    "hideCode": true,
    "hidePrompt": true
   },
   "outputs": [],
   "source": [
    "LD3 = pd.crosstab([df.Event_C, df.Event_A], [df.Event_D], margins=True).apply(percConvert, axis=1)\n",
    "LD3"
   ]
  },
  {
   "cell_type": "markdown",
   "metadata": {
    "hideCode": true,
    "hidePrompt": true
   },
   "source": [
    "-----------------------------------------------------------------------------------------------------------------------"
   ]
  },
  {
   "cell_type": "markdown",
   "metadata": {
    "hideCode": true,
    "hidePrompt": true
   },
   "source": [
    "### Node D4"
   ]
  },
  {
   "cell_type": "markdown",
   "metadata": {
    "hideCode": true,
    "hidePrompt": true
   },
   "source": [
    "Counts <img src=\"BaseMatrices/Node CD4.PNG\">"
   ]
  },
  {
   "cell_type": "code",
   "execution_count": null,
   "metadata": {
    "hideCode": true,
    "hidePrompt": true,
    "scrolled": true
   },
   "outputs": [],
   "source": [
    "CD4 = pd.crosstab([df.Event_B, df.Event_A], df.Event_D, margins=True)\n",
    "CD4"
   ]
  },
  {
   "cell_type": "markdown",
   "metadata": {
    "hideCode": true,
    "hidePrompt": true
   },
   "source": [
    "### P(D4j | Bi, Ai)"
   ]
  },
  {
   "cell_type": "markdown",
   "metadata": {
    "hideCode": true,
    "hidePrompt": true
   },
   "source": [
    "Likelihoods <img src=\"BaseMatrices/Node LD4.PNG\">"
   ]
  },
  {
   "cell_type": "code",
   "execution_count": null,
   "metadata": {
    "hideCode": true,
    "hidePrompt": true
   },
   "outputs": [],
   "source": [
    "LD4 = pd.crosstab([df.Event_B, df.Event_A], [df.Event_D], margins=True).apply(percConvert, axis=1)\n",
    "LD4"
   ]
  },
  {
   "cell_type": "markdown",
   "metadata": {
    "hideCode": true,
    "hidePrompt": true
   },
   "source": [
    "-----------------------------------------------------------------------------------------------------------------------"
   ]
  },
  {
   "cell_type": "markdown",
   "metadata": {
    "hideCode": true,
    "hidePrompt": true
   },
   "source": [
    "### Node D5"
   ]
  },
  {
   "cell_type": "markdown",
   "metadata": {
    "hideCode": true,
    "hidePrompt": true
   },
   "source": [
    "Counts <img src=\"BaseMatrices/Node CD5.PNG\">"
   ]
  },
  {
   "cell_type": "code",
   "execution_count": null,
   "metadata": {
    "hideCode": true,
    "hidePrompt": true,
    "scrolled": true
   },
   "outputs": [],
   "source": [
    "CD5 = pd.crosstab([df.Event_C], df.Event_D, margins=True)\n",
    "CD5"
   ]
  },
  {
   "cell_type": "markdown",
   "metadata": {
    "hideCode": true,
    "hidePrompt": true
   },
   "source": [
    "### P(D5j | Ci)"
   ]
  },
  {
   "cell_type": "markdown",
   "metadata": {
    "hideCode": true,
    "hidePrompt": true
   },
   "source": [
    "Likelihoods <img src=\"BaseMatrices/Node LD5.PNG\">"
   ]
  },
  {
   "cell_type": "code",
   "execution_count": null,
   "metadata": {
    "hideCode": true,
    "hidePrompt": true
   },
   "outputs": [],
   "source": [
    "LD5 = pd.crosstab([df.Event_C], [df.Event_D], margins=True).apply(percConvert, axis=1)\n",
    "LD5"
   ]
  },
  {
   "cell_type": "markdown",
   "metadata": {
    "hideCode": true,
    "hidePrompt": true
   },
   "source": [
    "-----------------------------------------------------------------------------------------------------------------------"
   ]
  },
  {
   "cell_type": "markdown",
   "metadata": {
    "hideCode": true,
    "hidePrompt": true
   },
   "source": [
    "### Node D6"
   ]
  },
  {
   "cell_type": "markdown",
   "metadata": {
    "hideCode": true,
    "hidePrompt": true
   },
   "source": [
    "Counts <img src=\"BaseMatrices/Node CD6.PNG\">"
   ]
  },
  {
   "cell_type": "code",
   "execution_count": null,
   "metadata": {
    "hideCode": true,
    "hidePrompt": true,
    "scrolled": true
   },
   "outputs": [],
   "source": [
    "CD6 = pd.crosstab([df.Event_B], df.Event_D, margins=True)\n",
    "CD6"
   ]
  },
  {
   "cell_type": "markdown",
   "metadata": {
    "hideCode": true,
    "hidePrompt": true
   },
   "source": [
    "### P(D6j | Bi)"
   ]
  },
  {
   "cell_type": "markdown",
   "metadata": {
    "hideCode": true,
    "hidePrompt": true
   },
   "source": [
    "Likelihoods <img src=\"BaseMatrices/Node LD66.PNG\">"
   ]
  },
  {
   "cell_type": "code",
   "execution_count": null,
   "metadata": {
    "hideCode": true,
    "hidePrompt": true
   },
   "outputs": [],
   "source": [
    "LD6 = pd.crosstab([df.Event_B], df.Event_D, margins=True)\n",
    "LD6"
   ]
  },
  {
   "cell_type": "markdown",
   "metadata": {
    "hideCode": true,
    "hidePrompt": true
   },
   "source": [
    "-----------------------------------------------------------------------------------------------------------------------"
   ]
  },
  {
   "cell_type": "markdown",
   "metadata": {
    "hideCode": true,
    "hidePrompt": true
   },
   "source": [
    "### Node D7"
   ]
  },
  {
   "cell_type": "markdown",
   "metadata": {
    "hideCode": true,
    "hidePrompt": true
   },
   "source": [
    "Counts <img src=\"BaseMatrices/Node CD7.PNG\">"
   ]
  },
  {
   "cell_type": "code",
   "execution_count": null,
   "metadata": {
    "hideCode": true,
    "hidePrompt": true,
    "scrolled": true
   },
   "outputs": [],
   "source": [
    "CD7 = pd.crosstab([df.Event_A], [df.Event_D], margins=True)\n",
    "CD7"
   ]
  },
  {
   "cell_type": "markdown",
   "metadata": {
    "hideCode": true,
    "hidePrompt": true
   },
   "source": [
    "### P(D7j | Ai)"
   ]
  },
  {
   "cell_type": "markdown",
   "metadata": {
    "hideCode": true,
    "hidePrompt": true
   },
   "source": [
    "Likelihoods <img src=\"BaseMatrices/Node LD7.PNG\">"
   ]
  },
  {
   "cell_type": "code",
   "execution_count": null,
   "metadata": {
    "hideCode": true,
    "hidePrompt": true
   },
   "outputs": [],
   "source": [
    "LD7 = pd.crosstab([df.Event_A], [df.Event_D], margins=True).apply(percConvert, axis=1)\n",
    "LD7"
   ]
  },
  {
   "cell_type": "markdown",
   "metadata": {
    "hideCode": true,
    "hideOutput": false,
    "hidePrompt": true
   },
   "source": [
    "======================================================================================================================="
   ]
  },
  {
   "cell_type": "markdown",
   "metadata": {
    "hideCode": true,
    "hidePrompt": true
   },
   "source": [
    "======================================================================================================================="
   ]
  }
 ],
 "metadata": {
  "anaconda-cloud": {},
  "celltoolbar": "Hide code",
  "hide_code_all_hidden": true,
  "kernelspec": {
   "display_name": "Python 3",
   "language": "python",
   "name": "python3"
  },
  "language_info": {
   "codemirror_mode": {
    "name": "ipython",
    "version": 3
   },
   "file_extension": ".py",
   "mimetype": "text/x-python",
   "name": "python",
   "nbconvert_exporter": "python",
   "pygments_lexer": "ipython3",
   "version": "3.6.0"
  }
 },
 "nbformat": 4,
 "nbformat_minor": 1
}
